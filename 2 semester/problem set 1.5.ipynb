{
 "cells": [
  {
   "metadata": {},
   "cell_type": "markdown",
   "source": [
    "Задача 1\n",
    "\n",
    "Дан массив целых чисел, проверить содержит ли он подмассив с нулевой суммой.\n",
    "Необходимая сложность: O(n^2);  (Можно решить за O(n), но не сегодня)\n",
    "\n",
    "\n",
    "Пример:\n",
    "Input: {3, 4, -7, 3, 1, 3, 1, -4, -2, -2}\n",
    "Output: Подмассив с нулевой суммой существует.\n",
    "Подмассивы:\n",
    "{ 3, 4, -7 }\n",
    "{ 4, -7, 3 }\n",
    "{ -7, 3, 1, 3 }\n",
    "{ 3, 1, -4 }\n",
    "{ 3, 1, 3, 1, -4, -2, -2 }\n",
    "{ 3, 4, -7, 3, 1, 3, 1, -4, -2, -2 }\n",
    "\n",
    "Обратите внимание, что проблема касается подмассивов, которые являются смежными, то есть элементы которых занимают последовательные позиции в массиве."
   ],
   "id": "c848e8c0c5d4ca2e"
  },
  {
   "cell_type": "code",
   "id": "initial_id",
   "metadata": {
    "collapsed": true,
    "ExecuteTime": {
     "end_time": "2024-09-21T20:17:36.147886Z",
     "start_time": "2024-09-21T20:17:36.144518Z"
    }
   },
   "source": [
    "# sets=list(map(int,input().split()))\n",
    "sets=list(map(int,[3, 4, -7, 3, 1, 3, 1, -4, -2, -2]))\n",
    "dicts={}\n",
    "for i in range(len(sets)):\n",
    "\tsums=0\n",
    "\tfor j in range(i,len(sets)):\n",
    "\t\tsums+=sets[j]\n",
    "\t\tif sums==0:\n",
    "\t\t\tdicts[i]=(i,j)\n",
    "print(dicts)"
   ],
   "outputs": [
    {
     "name": "stdout",
     "output_type": "stream",
     "text": [
      "{0: (0, 9), 1: (1, 3), 2: (2, 5), 3: (3, 9), 5: (5, 7)}\n"
     ]
    }
   ],
   "execution_count": 5
  },
  {
   "metadata": {},
   "cell_type": "markdown",
   "source": [
    "**Задача 2**\n",
    "\n",
    "Дан массив состоящий только из 0, 1 и 2, отсортируйте его за линейное время с константным ограничением по памяти (linear time and constant space).\n",
    "\n",
    "Пример:\n",
    "Input:  { 0, 1, 2, 2, 1, 0, 0, 2, 0, 1, 1, 0 }\n",
    "\n",
    "Output: { 0, 0, 0, 0, 0, 1, 1, 1, 1, 2, 2, 2 }\n"
   ],
   "id": "580681eaa62825b1"
  },
  {
   "metadata": {
    "ExecuteTime": {
     "end_time": "2024-09-21T20:21:14.076294Z",
     "start_time": "2024-09-21T20:21:14.072555Z"
    }
   },
   "cell_type": "code",
   "source": [
    "sets=list(map(int,[0, 1, 2, 2, 1, 0, 0, 2, 0, 1, 1, 0]))\n",
    "# sets=list(map(int,input().split()))\n",
    "print(list('0'*sets.count(0)+'1'*sets.count(1)+'2'*sets.count(2)))"
   ],
   "id": "909c0200b6fafc98",
   "outputs": [
    {
     "name": "stdout",
     "output_type": "stream",
     "text": [
      "['0', '0', '0', '0', '0', '1', '1', '1', '1', '2', '2', '2']\n"
     ]
    }
   ],
   "execution_count": 6
  }
 ],
 "metadata": {
  "kernelspec": {
   "display_name": "Python 3",
   "language": "python",
   "name": "python3"
  },
  "language_info": {
   "codemirror_mode": {
    "name": "ipython",
    "version": 2
   },
   "file_extension": ".py",
   "mimetype": "text/x-python",
   "name": "python",
   "nbconvert_exporter": "python",
   "pygments_lexer": "ipython2",
   "version": "2.7.6"
  }
 },
 "nbformat": 4,
 "nbformat_minor": 5
}
